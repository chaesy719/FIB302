{
  "nbformat": 4,
  "nbformat_minor": 0,
  "metadata": {
    "colab": {
      "provenance": [],
      "authorship_tag": "ABX9TyOYhDFV6G5XycmCQp/mDRDG",
      "include_colab_link": true
    },
    "kernelspec": {
      "name": "python3",
      "display_name": "Python 3"
    },
    "language_info": {
      "name": "python"
    }
  },
  "cells": [
    {
      "cell_type": "markdown",
      "metadata": {
        "id": "view-in-github",
        "colab_type": "text"
      },
      "source": [
        "<a href=\"https://colab.research.google.com/github/chaesy719/FIB302/blob/main/listapython3.ipynb\" target=\"_parent\"><img src=\"https://colab.research.google.com/assets/colab-badge.svg\" alt=\"Open In Colab\"/></a>"
      ]
    },
    {
      "cell_type": "code",
      "execution_count": 1,
      "metadata": {
        "colab": {
          "base_uri": "https://localhost:8080/"
        },
        "id": "APOupIhZ-QHN",
        "outputId": "3659a3c7-b11b-41ff-f394-562f5aa0efb2"
      },
      "outputs": [
        {
          "output_type": "stream",
          "name": "stdout",
          "text": [
            "Insira um número: 36\n",
            "O número é par.\n"
          ]
        }
      ],
      "source": [
        "# Pede para inserir um número.\n",
        "numero = int(input('Insira um número: '))\n",
        "\n",
        "# Averiguar se é um número par ou ímpar.\n",
        "if numero % 2 == 0:\n",
        "    print('O número inserido é par.')\n",
        "else:\n",
        "    print('O número inserido é ímpar.')"
      ]
    },
    {
      "cell_type": "code",
      "source": [
        "# Pede para inserir uma nota.\n",
        "nota = float(input('Insira uma nota (0-100): '))\n",
        "\n",
        "# Averigua se a nota inserida é maior que 60 (aprovado) ou não (reprovado).\n",
        "if nota >= 60:\n",
        "    print('Aprovado!')\n",
        "else:\n",
        "    print('Reprovado!')"
      ],
      "metadata": {
        "colab": {
          "base_uri": "https://localhost:8080/"
        },
        "id": "SOD7Fenx_fIR",
        "outputId": "d9babb4f-8898-4abf-e839-e21c8b84f646"
      },
      "execution_count": 2,
      "outputs": [
        {
          "output_type": "stream",
          "name": "stdout",
          "text": [
            "Insira uma nota (0-100): 32\n",
            "Reprovado!\n"
          ]
        }
      ]
    },
    {
      "cell_type": "code",
      "source": [
        "import random\n",
        "\n",
        "# Gera um número aleatório entre 1 e 100\n",
        "n_a = random.randint(1, 100)\n",
        "\n",
        "# Loop para o usuário chutar um número até acertar;\n",
        "while True:\n",
        "    # Pede para chutar um número.\n",
        "    c = int(input('Adivinhe um número entre 1 e 100: '))\n",
        "\n",
        "    # Averigua se o chute foi certeiro\n",
        "    if c == n_a:\n",
        "        print('Você acertou!')\n",
        "        break\n",
        "    # Fala se chute foi muito alto ou muito baixo\n",
        "    elif c > n_a:\n",
        "        print('Muito alto.')\n",
        "    else:\n",
        "        print('Seu chute é muito baixo.')"
      ],
      "metadata": {
        "colab": {
          "base_uri": "https://localhost:8080/"
        },
        "id": "wO_jySLOAtWa",
        "outputId": "fb6264cf-d47d-4c78-f49d-92a559c73b16"
      },
      "execution_count": 4,
      "outputs": [
        {
          "output_type": "stream",
          "name": "stdout",
          "text": [
            "Adivinhe um número entre 1 e 100: 50\n",
            "Muito alto.\n",
            "Adivinhe um número entre 1 e 100: 25\n",
            "Muito alto.\n",
            "Adivinhe um número entre 1 e 100: 12\n",
            "Seu chute é muito baixo.\n",
            "Adivinhe um número entre 1 e 100: 18\n",
            "Muito alto.\n",
            "Adivinhe um número entre 1 e 100: 15\n",
            "Muito alto.\n",
            "Adivinhe um número entre 1 e 100: 13\n",
            "Você acertou!\n"
          ]
        }
      ]
    },
    {
      "cell_type": "code",
      "source": [
        "# Pede um número inteiro positivo\n",
        "n = int(input('Insira um número inteiro positivo: '))\n",
        "\n",
        "# Inicia o fatorial como 1\n",
        "f = 1\n",
        "\n",
        "# Calcula o fatorial usando um loop while\n",
        "while n > 0:\n",
        "    f *= n\n",
        "    n -= 1\n",
        "\n",
        "# Fatorial\n",
        "print(f'O fatorial de {n} é {f}')"
      ],
      "metadata": {
        "colab": {
          "base_uri": "https://localhost:8080/"
        },
        "id": "giQ-ZOoYCyW1",
        "outputId": "7f952207-7a0a-40d2-ce80-00795e1739e9"
      },
      "execution_count": 5,
      "outputs": [
        {
          "output_type": "stream",
          "name": "stdout",
          "text": [
            "Insira um número inteiro positivo: 6\n",
            "O fatorial de 0 é 720\n"
          ]
        }
      ]
    },
    {
      "cell_type": "code",
      "source": [
        "# Pede uma string\n",
        "s = input('Digite uma string: ')\n",
        "\n",
        "# Converte a string para minúsculas e remove os espaços\n",
        "s = s.lower().replace(\" \", \"\")\n",
        "\n",
        "# Averigua se a string é igual ao seu reverso\n",
        "if s == s[::-1]:\n",
        "    print('A string é um palíndromo.')\n",
        "else:\n",
        "    print('A string não é um palíndromo.')"
      ],
      "metadata": {
        "colab": {
          "base_uri": "https://localhost:8080/"
        },
        "id": "0oUa752LDz6g",
        "outputId": "fff89507-aa3f-4daa-f489-6c9967763690"
      },
      "execution_count": 7,
      "outputs": [
        {
          "output_type": "stream",
          "name": "stdout",
          "text": [
            "Digite uma string: O tacocato\n",
            "A string é um palíndromo.\n"
          ]
        }
      ]
    },
    {
      "cell_type": "code",
      "source": [
        "# Inserir um número/\n",
        "n = int(input(\"Insira um número: \"))\n",
        "\n",
        "# Averigua se o número é maior que 1, se é divisível por algum número entre 2 e a raiz quadrada do número, caso contrário, o programa para\n",
        "if n > 1:\n",
        "    for i in range(2, int(numero ** 0.5) + 1):\n",
        "        if (n % i) == 0:\n",
        "            print(f'{n} não é um número primo.')\n",
        "            break\n",
        "    else:\n",
        "        print(f'{n} é um número primo.')\n",
        "else:\n",
        "    print(f'{n} não é um número primo.')"
      ],
      "metadata": {
        "colab": {
          "base_uri": "https://localhost:8080/"
        },
        "id": "w5nfP1V_FLFN",
        "outputId": "72131b9b-53f5-4f8e-b40e-1ac48f85ae21"
      },
      "execution_count": 8,
      "outputs": [
        {
          "output_type": "stream",
          "name": "stdout",
          "text": [
            "Insira um número: 79\n",
            "79 é um número primo.\n"
          ]
        }
      ]
    }
  ]
}
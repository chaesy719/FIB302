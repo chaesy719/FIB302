{
  "nbformat": 4,
  "nbformat_minor": 0,
  "metadata": {
    "colab": {
      "provenance": [],
      "authorship_tag": "ABX9TyO+pEVHk+iHWxZGQNSU8m7d",
      "include_colab_link": true
    },
    "kernelspec": {
      "name": "python3",
      "display_name": "Python 3"
    },
    "language_info": {
      "name": "python"
    }
  },
  "cells": [
    {
      "cell_type": "markdown",
      "metadata": {
        "id": "view-in-github",
        "colab_type": "text"
      },
      "source": [
        "<a href=\"https://colab.research.google.com/github/chaesy719/FIB302/blob/main/listapython_2.ipynb\" target=\"_parent\"><img src=\"https://colab.research.google.com/assets/colab-badge.svg\" alt=\"Open In Colab\"/></a>"
      ]
    },
    {
      "cell_type": "code",
      "execution_count": 61,
      "metadata": {
        "colab": {
          "base_uri": "https://localhost:8080/"
        },
        "id": "VLC3AWAyTkRI",
        "outputId": "386f0980-0344-4417-89a3-46d93eaf682d"
      },
      "outputs": [
        {
          "output_type": "stream",
          "name": "stdout",
          "text": [
            "----------------------------------------\n",
            "Lista inteira: [1, 8, 39, 2984, 23]\n",
            "----------------------------------------\n",
            "----------------------------------------\n",
            "Terceiro elemento da lista: 39\n",
            "----------------------------------------\n"
          ]
        }
      ],
      "source": [
        "# Lista contendo cinco números inteiros (l)\n",
        "l = [1, 8, 39, 2984, 23]\n",
        "\n",
        "# Lista\n",
        "print(40*'-')\n",
        "print(f'Lista inteira: {l}')\n",
        "print(40*'-')\n",
        "\n",
        "# Terceiro elemento da lista\n",
        "print(40*'-')\n",
        "print(f'Terceiro elemento da lista: {l[2]}')\n",
        "print(40*'-')"
      ]
    },
    {
      "cell_type": "code",
      "source": [
        "# Lista vazia\n",
        "l = []\n",
        "\n",
        "# Adicionando três números inteiros à lista\n",
        "l.append(45)\n",
        "l.append(3)\n",
        "l.append(94)\n",
        "\n",
        "# Estendendo a lista com outra lista que tem mais dois números inteiros\n",
        "l.extend([32, 34])\n",
        "\n",
        "# Lista\n",
        "print(35*'-')\n",
        "print(f'Lista final: {l}')\n",
        "print(35*'-')"
      ],
      "metadata": {
        "colab": {
          "base_uri": "https://localhost:8080/"
        },
        "id": "atGWXNhHU9UO",
        "outputId": "0387b29f-7e42-4954-8a2b-038a1865dea2"
      },
      "execution_count": 60,
      "outputs": [
        {
          "output_type": "stream",
          "name": "stdout",
          "text": [
            "-----------------------------------\n",
            "Lista final: [45, 3, 94, 32, 34]\n",
            "-----------------------------------\n"
          ]
        }
      ]
    },
    {
      "cell_type": "code",
      "source": [
        "# Lista de 10 números inteiros\n",
        "n = [3, 34, 2, 54, 5, 76, 33, 68, 1, 22]\n",
        "\n",
        "# Primeiros cinco números usando fatiamento\n",
        "print(50*'-')\n",
        "print(f'Os primeiros cinco números são: {n[:5]}')\n",
        "print(50*'-')\n",
        "\n",
        "# Últimos cinco números usando fatiamento\n",
        "print(50*'-')\n",
        "print(f'Os últimos cinco números são: {n[5:]}')\n",
        "print(50*'-')"
      ],
      "metadata": {
        "id": "6sYmrgjAVzK2",
        "colab": {
          "base_uri": "https://localhost:8080/"
        },
        "outputId": "95e723d2-03eb-4f31-d003-baa21930bc54"
      },
      "execution_count": 58,
      "outputs": [
        {
          "output_type": "stream",
          "name": "stdout",
          "text": [
            "--------------------------------------------------\n",
            "Os primeiros cinco números são: [3, 34, 2, 54, 5]\n",
            "--------------------------------------------------\n",
            "--------------------------------------------------\n",
            "Os últimos cinco números são: [76, 33, 68, 1, 22]\n",
            "--------------------------------------------------\n"
          ]
        }
      ]
    },
    {
      "cell_type": "code",
      "source": [
        "# Duas listas de números inteiros com a mesma quantidade de elementos\n",
        "l1 = [3, 63, 2, 56, 1]\n",
        "l2 = [93, 29, 23, 44, 12]\n",
        "\n",
        "# Adicionando os elementos correspondentes usando map() e sum() e zip()\n",
        "r = list(map(sum, zip(l1, l2)))\n",
        "\n",
        "# Resultado\n",
        "print(90*'-')\n",
        "print(f'Resultado da adição dos elementos correspondentes das duas listas: {r}')\n",
        "print(90*'-')"
      ],
      "metadata": {
        "colab": {
          "base_uri": "https://localhost:8080/"
        },
        "id": "KpZUQX3Tr9ER",
        "outputId": "315e0587-f26f-4c89-c5cd-149b9f893a99"
      },
      "execution_count": 57,
      "outputs": [
        {
          "output_type": "stream",
          "name": "stdout",
          "text": [
            "------------------------------------------------------------------------------------------\n",
            "Resultado da adição dos elementos correspondentes das duas listas: [96, 92, 25, 100, 13]\n",
            "------------------------------------------------------------------------------------------\n"
          ]
        }
      ]
    },
    {
      "cell_type": "code",
      "source": [
        "# Duas listas de números inteiros\n",
        "l1 = [43, 24, 31]\n",
        "l2 = [456, 352, 644]\n",
        "\n",
        "# Concatenando as listas usando extend()\n",
        "l1.extend(l2)\n",
        "\n",
        "# Lista concatenada\n",
        "print(50*'-')\n",
        "print(f'Lista concatenada: {l1}')\n",
        "print(50*'-')"
      ],
      "metadata": {
        "colab": {
          "base_uri": "https://localhost:8080/"
        },
        "id": "04zQFrxttrim",
        "outputId": "2e342c72-138f-42dd-8e78-2ab4f781353f"
      },
      "execution_count": 55,
      "outputs": [
        {
          "output_type": "stream",
          "name": "stdout",
          "text": [
            "--------------------------------------------------\n",
            "Lista concatenada: [43, 24, 31, 456, 352, 644]\n",
            "--------------------------------------------------\n"
          ]
        }
      ]
    },
    {
      "cell_type": "code",
      "source": [
        "import numpy as np\n",
        "\n",
        "# Array de números inteiros\n",
        "a_i = np.array([45, 83, 94, 23, 4])\n",
        "\n",
        "# Array\n",
        "print(40*'-')\n",
        "print(f'Array de inteiros: {a_i}')\n",
        "print(40*'-')"
      ],
      "metadata": {
        "colab": {
          "base_uri": "https://localhost:8080/"
        },
        "id": "ybYOnLWiuoMk",
        "outputId": "ea095f9c-b9b7-4f74-bc9c-2d7640be41be"
      },
      "execution_count": 54,
      "outputs": [
        {
          "output_type": "stream",
          "name": "stdout",
          "text": [
            "----------------------------------------\n",
            "Array de inteiros: [45 83 94 23  4]\n",
            "----------------------------------------\n"
          ]
        }
      ]
    },
    {
      "cell_type": "code",
      "source": [
        "import numpy as np\n",
        "\n",
        "# Array de números de ponto flutuante\n",
        "a_f = np.array([0.4, 2.99, 33.4, 2.4, 3.1])\n",
        "\n",
        "# Array\n",
        "print(60*'-')\n",
        "print(f'Array de ponto flutuante: {a_f}')\n",
        "print(60*'-')\n",
        "\n",
        "# Acessando e modificando o terceiro elemento (índice 2)\n",
        "a_f[2] = 3.5\n",
        "\n",
        "# Array modificado\n",
        "print(45*'-')\n",
        "print(f'Array modificado: {a_f}')\n",
        "print(45*'-')"
      ],
      "metadata": {
        "colab": {
          "base_uri": "https://localhost:8080/"
        },
        "id": "mODF9n-3vO4u",
        "outputId": "5f0fde8c-e90e-43bf-d68b-2825c1e4bd24"
      },
      "execution_count": 70,
      "outputs": [
        {
          "output_type": "stream",
          "name": "stdout",
          "text": [
            "------------------------------------------------------------\n",
            "Array de ponto flutuante: [ 0.4   2.99 33.4   2.4   3.1 ]\n",
            "------------------------------------------------------------\n",
            "---------------------------------------------\n",
            "Array modificado: [0.4  2.99 3.5  2.4  3.1 ]\n",
            "---------------------------------------------\n"
          ]
        }
      ]
    },
    {
      "cell_type": "code",
      "source": [
        "import numpy as np\n",
        "\n",
        "# Dois arrays de números inteiros usando a biblioteca NumPy\n",
        "a1 = np.array([13, 22, 43, 46, 225])\n",
        "a2 = np.array([6, 74, 58, 49, 103])\n",
        "\n",
        "# Arrays de números inteiros\n",
        "print(55*'-')\n",
        "print(f'Arrays: {a1}, {a2}')\n",
        "print(55*'-')\n",
        "\n",
        "# Adicionando os elementos correspondentes dos dois arrays\n",
        "r = a1 + a2\n",
        "\n",
        "# Resultado da adição\n",
        "print(75*'-')\n",
        "print(f'Resultado da adição dos elementos correspondentes: {r}')\n",
        "print(75*'-')"
      ],
      "metadata": {
        "colab": {
          "base_uri": "https://localhost:8080/"
        },
        "id": "k7D4IVKhwdSR",
        "outputId": "5a214f0b-5cee-4412-d2ae-2c29ff939eb2"
      },
      "execution_count": 48,
      "outputs": [
        {
          "output_type": "stream",
          "name": "stdout",
          "text": [
            "-------------------------------------------------------\n",
            "Arrays: [ 13  22  43  46 225], [  6  74  58  49 103]\n",
            "-------------------------------------------------------\n",
            "---------------------------------------------------------------------------\n",
            "Resultado da adição dos elementos correspondentes: [ 19  96 101  95 328]\n",
            "---------------------------------------------------------------------------\n"
          ]
        }
      ]
    },
    {
      "cell_type": "code",
      "source": [
        "import numpy as np\n",
        "\n",
        "# Variáveis definidas\n",
        "v_i = 20  # Velocidade inicial(m/s)\n",
        "theta = np.radians(45)  # Ângulo convertidos para radianos\n",
        "g = 9.8  # Aceleração gravitacional(m/s^2)\n",
        "\n",
        "# Array para valores de tempo\n",
        "tempo = np.array([0, 1, 2, 3, 4, 5])  # Tempo(s)\n",
        "\n",
        "# Calculo para as posições horizontais e verticais\n",
        "p_h = v_i * tempo * np.cos(theta)\n",
        "p_v = v_i * tempo * np.sin(theta) - 1/2 * g * tempo**2\n",
        "\n",
        "# Posições horizontais e verticais\n",
        "for t, x, y in zip(tempo, p_h, p_v):\n",
        "    print(100*'-')\n",
        "    print(f'No tempo {t} segundos, a posição horizontal é {x:.2f} metros e a posição vertical é {y:.2f} metros.')\n",
        "    print(100*'-')\n",
        "# Por algum motivo está dando errado a posição vertical"
      ],
      "metadata": {
        "colab": {
          "base_uri": "https://localhost:8080/"
        },
        "id": "GVr2PeXczuvG",
        "outputId": "d2daaa3a-5205-49f2-f639-49e3f3efd0c0"
      },
      "execution_count": 30,
      "outputs": [
        {
          "output_type": "stream",
          "name": "stdout",
          "text": [
            "----------------------------------------------------------------------------------------------------\n",
            "No tempo 0 segundos, a posição horizontal é 0.00 metros e a posição vertical é 0.00 metros.\n",
            "----------------------------------------------------------------------------------------------------\n",
            "----------------------------------------------------------------------------------------------------\n",
            "No tempo 1 segundos, a posição horizontal é 14.14 metros e a posição vertical é 9.24 metros.\n",
            "----------------------------------------------------------------------------------------------------\n",
            "----------------------------------------------------------------------------------------------------\n",
            "No tempo 2 segundos, a posição horizontal é 28.28 metros e a posição vertical é 8.68 metros.\n",
            "----------------------------------------------------------------------------------------------------\n",
            "----------------------------------------------------------------------------------------------------\n",
            "No tempo 3 segundos, a posição horizontal é 42.43 metros e a posição vertical é -1.67 metros.\n",
            "----------------------------------------------------------------------------------------------------\n",
            "----------------------------------------------------------------------------------------------------\n",
            "No tempo 4 segundos, a posição horizontal é 56.57 metros e a posição vertical é -21.83 metros.\n",
            "----------------------------------------------------------------------------------------------------\n",
            "----------------------------------------------------------------------------------------------------\n",
            "No tempo 5 segundos, a posição horizontal é 70.71 metros e a posição vertical é -51.79 metros.\n",
            "----------------------------------------------------------------------------------------------------\n"
          ]
        }
      ]
    },
    {
      "cell_type": "code",
      "source": [
        "import numpy as np\n",
        "import matplotlib.pyplot as plt\n",
        "\n",
        "# Constantes\n",
        "a = 1  # Amplitude (m)\n",
        "omega = 2 * np.pi  # Velocidade angular (rad/s)\n",
        "\n",
        "# Array para tempo (de 0 a 10 segundos, com passos de 0.1 segundo)\n",
        "tempo = np.arange(0, 10, 0.1)\n",
        "\n",
        "# Calculo do deslocamento usando a equação do movimento harmônico simples\n",
        "deslocamento = a * np.cos(omega * tempo)\n",
        "\n",
        "# Gráfico de deslocamento em função do tempo\n",
        "plt.plot(tempo, deslocamento)\n",
        "plt.title('Deslocamento em Movimento Harmônico Simples')\n",
        "plt.xlabel('Tempo (s)')\n",
        "plt.ylabel('Deslocamento (m)')\n",
        "plt.grid(True)\n",
        "plt.show()\n"
      ],
      "metadata": {
        "colab": {
          "base_uri": "https://localhost:8080/",
          "height": 472
        },
        "id": "N8UrNK2e4Tbh",
        "outputId": "4488c9dc-9e41-4f53-fa32-7480d8f34954"
      },
      "execution_count": 28,
      "outputs": [
        {
          "output_type": "display_data",
          "data": {
            "text/plain": [
              "<Figure size 640x480 with 1 Axes>"
            ],
            "image/png": "[encoded data removed]"
          },
          "metadata": {}
        }
      ]
    },
    {
      "cell_type": "code",
      "source": [
        "import numpy as np\n",
        "\n",
        "# Array de 10 números inteiros\n",
        "a_i = np.array([18, 323, 35, 24, 515, 66, 47, 48, 29, 510])\n",
        "\n",
        "# Forma do array original\n",
        "print(70*'-')\n",
        "print(f'Forma do array original: {a_i}')\n",
        "\n",
        "# Remodelando o array em uma matriz 2x5\n",
        "m_2x5 = a_i.reshape(2, 5)\n",
        "\n",
        "# Matriz remodelada\n",
        "print(70*'-')\n",
        "print(\"Matriz remodelada 2x5:\")\n",
        "print(25*'-')\n",
        "print(m_2x5)\n",
        "print(25*'-')"
      ],
      "metadata": {
        "colab": {
          "base_uri": "https://localhost:8080/"
        },
        "id": "j8yXrEO55HcC",
        "outputId": "9c3bfc11-ecf4-40bb-b29e-a7af26383ae3"
      },
      "execution_count": 44,
      "outputs": [
        {
          "output_type": "stream",
          "name": "stdout",
          "text": [
            "----------------------------------------------------------------------\n",
            "Forma do array original: [ 18 323  35  24 515  66  47  48  29 510]\n",
            "----------------------------------------------------------------------\n",
            "Matriz remodelada 2x5:\n",
            "-------------------------\n",
            "[[ 18 323  35  24 515]\n",
            " [ 66  47  48  29 510]]\n",
            "-------------------------\n"
          ]
        }
      ]
    },
    {
      "cell_type": "code",
      "source": [
        "import numpy as np\n",
        "\n",
        "# Array de 10 números inteiros\n",
        "a_i = np.array([11, 32, 31, 4, 25, 56, 47, 38, 39, 140])\n",
        "\n",
        "# Usando indexação booleana para selecionar apenas os números pares\n",
        "n_p = a_i[a_i % 2 == 0]\n",
        "\n",
        "# Números pares\n",
        "print(25*'-')\n",
        "print(\"Números pares do array:\")\n",
        "print(25*'-')\n",
        "print(n_p)\n",
        "print(25*'-')"
      ],
      "metadata": {
        "colab": {
          "base_uri": "https://localhost:8080/"
        },
        "id": "Y-jYUXt583rA",
        "outputId": "697c6569-07f0-4482-97be-054cd02bf62d"
      },
      "execution_count": 63,
      "outputs": [
        {
          "output_type": "stream",
          "name": "stdout",
          "text": [
            "-------------------------\n",
            "Números pares do array:\n",
            "-------------------------\n",
            "[ 32   4  56  38 140]\n",
            "-------------------------\n"
          ]
        }
      ]
    },
    {
      "cell_type": "code",
      "source": [
        "import numpy as np\n",
        "\n",
        "# Dois arrays de números inteiros\n",
        "a1 = np.array([11, 24, 33])\n",
        "a2 = np.array([43, 35, 36])\n",
        "\n",
        "# Calculo do produto escalar\n",
        "p_e = np.dot(a1, a2)\n",
        "\n",
        "# Resultado\n",
        "print(40*'-')\n",
        "print(f'Produto escalar dos dois arrays: {p_e}')\n",
        "print(40*'-')"
      ],
      "metadata": {
        "colab": {
          "base_uri": "https://localhost:8080/"
        },
        "id": "DcAdV2h49nPN",
        "outputId": "41e185c8-9ae5-492b-de9f-c18843993c0e"
      },
      "execution_count": 66,
      "outputs": [
        {
          "output_type": "stream",
          "name": "stdout",
          "text": [
            "----------------------------------------\n",
            "Produto escalar dos dois arrays: 2501\n",
            "----------------------------------------\n"
          ]
        }
      ]
    },
    {
      "cell_type": "code",
      "source": [
        "import numpy as np\n",
        "\n",
        "# Matriz 2x3\n",
        "m = np.array([[3, 2, 9],\n",
        "                   [3, 4, 1]])\n",
        "\n",
        "# Transponha a matriz\n",
        "m_t = m.T\n",
        "\n",
        "# Imprima a matriz transposta\n",
        "print(20*'-')\n",
        "print(\"Matriz transposta:\")\n",
        "print(20*'-')\n",
        "print(m_t)\n",
        "print(20*'-')"
      ],
      "metadata": {
        "colab": {
          "base_uri": "https://localhost:8080/"
        },
        "id": "97HroZi2-4Zl",
        "outputId": "80a6ea2c-b4fe-42b8-c602-6da06c820bc8"
      },
      "execution_count": 68,
      "outputs": [
        {
          "output_type": "stream",
          "name": "stdout",
          "text": [
            "--------------------\n",
            "Matriz transposta:\n",
            "--------------------\n",
            "[[3 3]\n",
            " [2 4]\n",
            " [9 1]]\n",
            "--------------------\n"
          ]
        }
      ]
    }
  ]
}
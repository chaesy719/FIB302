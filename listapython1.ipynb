{
  "nbformat": 4,
  "nbformat_minor": 0,
  "metadata": {
    "colab": {
      "provenance": [],
      "mount_file_id": "1fGnIk9gw46ETKk2oJEq3Fx0nRr1xdy1r",
      "authorship_tag": "ABX9TyPuxZYz2EJawtQUoemFzhuP",
      "include_colab_link": true
    },
    "kernelspec": {
      "name": "python3",
      "display_name": "Python 3"
    },
    "language_info": {
      "name": "python"
    }
  },
  "cells": [
    {
      "cell_type": "markdown",
      "metadata": {
        "id": "view-in-github",
        "colab_type": "text"
      },
      "source": [
        "<a href=\"https://colab.research.google.com/github/chaesy719/FIB302/blob/main/listapython1.ipynb\" target=\"_parent\"><img src=\"https://colab.research.google.com/assets/colab-badge.svg\" alt=\"Open In Colab\"/></a>"
      ]
    },
    {
      "cell_type": "code",
      "execution_count": 44,
      "metadata": {
        "colab": {
          "base_uri": "https://localhost:8080/"
        },
        "id": "EY6IK9vGrAcc",
        "outputId": "1435d669-7072-43ef-a003-8e1fd67b2023"
      },
      "outputs": [
        {
          "output_type": "stream",
          "name": "stdout",
          "text": [
            "O primeiro é: <class 'int'>\n",
            "O segundo é: <class 'float'>\n",
            "O terceiro é: <class 'str'>\n"
          ]
        }
      ],
      "source": [
        "inteiro = 5\n",
        "ponto_flutuante = 2.5\n",
        "string = 'Física'\n",
        "a = type(inteiro)\n",
        "b = type(ponto_flutuante)\n",
        "c = type(string)\n",
        "print(f'O primeiro é: {a}')\n",
        "print(f'O segundo é: {b}')\n",
        "print(f'O terceiro é: {c}')"
      ]
    },
    {
      "cell_type": "code",
      "source": [
        "# Inteiros\n",
        "i1 = 5\n",
        "i2 = 3\n",
        "s = i1 + i2\n",
        "print(f'A soma de {i1} e {i2} é: {s}')\n",
        "\n",
        "print(80*'-')\n",
        "\n",
        "# Ponto flutuante\n",
        "f1 = 7.5\n",
        "f2 = 2.5\n",
        "d = f1 / f2\n",
        "print(f'A divisão de {f1} por {f2} é: {d}')\n",
        "\n",
        "print(80*'-')\n",
        "\n",
        "# Strings\n",
        "s1 = 'Física é '\n",
        "s2 = 'loucura'\n",
        "c = s1 + s2\n",
        "print(f'A concatenação de \"{s1}\" e \"{s2}\" é: {c}')\n",
        "\n",
        "print(80*'-')\n",
        "\n",
        "# Entrada e saída\n",
        "nome = input('Digite seu nome: ')\n",
        "\n",
        "print(80*'-')\n",
        "print(f'Seja bem-vindo, {nome}!\\n')\n",
        "print(f'Até breve, {nome}!')\n",
        "\n",
        "print(80*'-')"
      ],
      "metadata": {
        "colab": {
          "base_uri": "https://localhost:8080/"
        },
        "id": "pIFimzsQs9pC",
        "outputId": "9959d710-dcd9-4d83-8d91-742b6ff4e6c8"
      },
      "execution_count": 26,
      "outputs": [
        {
          "output_type": "stream",
          "name": "stdout",
          "text": [
            "A soma de 5 e 3 é: 8\n",
            "--------------------------------------------------------------------------------\n",
            "A divisão de 7.5 por 2.5 é: 3.0\n",
            "--------------------------------------------------------------------------------\n",
            "A concatenação de \"Física é \" e \"loucura\" é: Física é loucura\n",
            "--------------------------------------------------------------------------------\n",
            "Digite seu nome: Chaesy\n",
            "--------------------------------------------------------------------------------\n",
            "Seja bem-vindo, Chaesy!\n",
            "\n",
            "Até breve, Chaesy!\n",
            "--------------------------------------------------------------------------------\n"
          ]
        }
      ]
    },
    {
      "cell_type": "code",
      "source": [
        "comp = float(input('Digite o comprimento do retângulo em centímetros: '))\n",
        "larg = float(input('Digite a largura do retângulo em centrímetros: '))\n",
        "\n",
        "area = comp * larg\n",
        "\n",
        "print(80*'-')\n",
        "\n",
        "print(f'A área do retângulo é: {area}cm^2')"
      ],
      "metadata": {
        "colab": {
          "base_uri": "https://localhost:8080/"
        },
        "id": "tvPc1y7_xAO6",
        "outputId": "39bbd8e7-fd71-48d2-cfb6-47a42eff110d"
      },
      "execution_count": 34,
      "outputs": [
        {
          "output_type": "stream",
          "name": "stdout",
          "text": [
            "Digite o comprimento do retângulo em centímetros: 2\n",
            "Digite a largura do retângulo em centrímetros: 4\n",
            "--------------------------------------------------------------------------------\n",
            "A área do retângulo é: 8.0cm^2\n"
          ]
        }
      ]
    },
    {
      "cell_type": "code",
      "source": [
        "cels = float(input('Digite a temperatura em Celsius: '))\n",
        "\n",
        "fahr = (cels * 9/5) + 32\n",
        "\n",
        "print(80*'-')\n",
        "\n",
        "print(f'A temperatura em Fahrenheit é {fahr}')"
      ],
      "metadata": {
        "colab": {
          "base_uri": "https://localhost:8080/"
        },
        "id": "LPIO3br1yKyo",
        "outputId": "c8583795-e5b1-4a24-aa2a-b9cb0b838993"
      },
      "execution_count": 35,
      "outputs": [
        {
          "output_type": "stream",
          "name": "stdout",
          "text": [
            "Digite a temperatura em Celsius: 24\n",
            "--------------------------------------------------------------------------------\n",
            "A temperatura em Fahrenheit é 75.2\n"
          ]
        }
      ]
    },
    {
      "cell_type": "code",
      "source": [
        "e = (2 * (3 + 4)) / 5\n",
        "\n",
        "print(f'O resultado da expressão ((2*(3+4))/5) é {e}')"
      ],
      "metadata": {
        "colab": {
          "base_uri": "https://localhost:8080/"
        },
        "id": "l0stpQ4BzXNU",
        "outputId": "0aa981af-7794-4391-826f-710d5c57dee6"
      },
      "execution_count": 41,
      "outputs": [
        {
          "output_type": "stream",
          "name": "stdout",
          "text": [
            "O resultado da expressão ((2*(3+4))/5) é 2.8\n"
          ]
        }
      ]
    },
    {
      "cell_type": "code",
      "source": [
        "s = 'Física é loucura!'\n",
        "\n",
        "s_invertida = s[::-1]\n",
        "\n",
        "print(f'A string invertida é: {s_invertida}')"
      ],
      "metadata": {
        "colab": {
          "base_uri": "https://localhost:8080/"
        },
        "id": "MPIDz9ag1Aqw",
        "outputId": "6e99ed50-ab86-4bab-aa5c-bc749e69c33f"
      },
      "execution_count": 42,
      "outputs": [
        {
          "output_type": "stream",
          "name": "stdout",
          "text": [
            "A string invertida é: !arucuol é acisíF\n"
          ]
        }
      ]
    },
    {
      "cell_type": "code",
      "source": [
        "s = 'Física é Loucura'\n",
        "\n",
        "s_maiuscula = s.upper()\n",
        "\n",
        "print(f'A string convertida para letras maiúsculas é: {s_maiuscula}')\n"
      ],
      "metadata": {
        "colab": {
          "base_uri": "https://localhost:8080/"
        },
        "id": "phTrTeCg2jC9",
        "outputId": "14533c79-731d-4d54-a32e-9ea2d618afe1"
      },
      "execution_count": 43,
      "outputs": [
        {
          "output_type": "stream",
          "name": "stdout",
          "text": [
            "A string convertida para letras maiúsculas é: FÍSICA É LOUCURA\n"
          ]
        }
      ]
    }
  ]
}